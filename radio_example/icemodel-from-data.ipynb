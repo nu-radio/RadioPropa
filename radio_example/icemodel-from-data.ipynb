{
 "cells": [
  {
   "cell_type": "code",
   "execution_count": 1,
   "metadata": {},
   "outputs": [],
   "source": [
    "import radiopropa\n",
    "import numpy as np\n",
    "import matplotlib.pyplot as plt"
   ]
  },
  {
   "cell_type": "code",
   "execution_count": 2,
   "metadata": {},
   "outputs": [
    {
     "data": {
      "text/plain": [
       "array([   0.        ,   -2.04081633,   -4.08163265,   -6.12244898,\n",
       "         -8.16326531,  -10.20408163,  -12.24489796,  -14.28571429,\n",
       "        -16.32653061,  -18.36734694,  -20.40816327,  -22.44897959,\n",
       "        -24.48979592,  -26.53061224,  -28.57142857,  -30.6122449 ,\n",
       "        -32.65306122,  -34.69387755,  -36.73469388,  -38.7755102 ,\n",
       "        -40.81632653,  -42.85714286,  -44.89795918,  -46.93877551,\n",
       "        -48.97959184,  -51.02040816,  -53.06122449,  -55.10204082,\n",
       "        -57.14285714,  -59.18367347,  -61.2244898 ,  -63.26530612,\n",
       "        -65.30612245,  -67.34693878,  -69.3877551 ,  -71.42857143,\n",
       "        -73.46938776,  -75.51020408,  -77.55102041,  -79.59183673,\n",
       "        -81.63265306,  -83.67346939,  -85.71428571,  -87.75510204,\n",
       "        -89.79591837,  -91.83673469,  -93.87755102,  -95.91836735,\n",
       "        -97.95918367, -100.        ])"
      ]
     },
     "execution_count": 2,
     "metadata": {},
     "output_type": "execute_result"
    }
   ],
   "source": [
    "X = np.linspace(0,-100)\n",
    "X"
   ]
  },
  {
   "cell_type": "code",
   "execution_count": 3,
   "metadata": {},
   "outputs": [],
   "source": [
    "def funct(x):\n",
    "    return np.sin(x*2*np.pi/70)\n",
    "def funct_grad(x):\n",
    "    return np.cos(x*2*np.pi/70)*2*np.pi/70\n",
    "def funct_integ(x):\n",
    "    return -np.cos(x*2*np.pi/70)/(2*np.pi/70)"
   ]
  },
  {
   "cell_type": "code",
   "execution_count": 4,
   "metadata": {},
   "outputs": [
    {
     "data": {
      "text/plain": [
       "array([ 0.        , -0.18216048, -0.35822543, -0.52230331, -0.66890369,\n",
       "       -0.79312096, -0.89079852, -0.95866785, -0.99445788, -0.99697099,\n",
       "       -0.96612309, -0.90294642, -0.80955502, -0.68907398, -0.5455349 ,\n",
       "       -0.38374093, -0.20910607, -0.02747403,  0.15507736,  0.33243949,\n",
       "        0.49867741,  0.6482284 ,  0.77608812,  0.8779781 ,  0.95048885,\n",
       "        0.99119399,  0.99873143,  0.97284894,  0.91441262,  0.82537789,\n",
       "        0.70872405,  0.56835463,  0.40896671,  0.2358938 ,  0.05492732,\n",
       "       -0.12787716, -0.30640257, -0.47467502, -0.62706371, -0.75846937,\n",
       "       -0.86449484, -0.94159227, -0.98718178, -0.99973785, -0.97884033,\n",
       "       -0.92518848, -0.84057763, -0.72783906, -0.59074527, -0.43388374])"
      ]
     },
     "execution_count": 4,
     "metadata": {},
     "output_type": "execute_result"
    }
   ],
   "source": [
    "N = funct(X)\n",
    "N"
   ]
  },
  {
   "cell_type": "code",
   "execution_count": 5,
   "metadata": {},
   "outputs": [],
   "source": [
    "data = np.vstack((X,N)).T\n",
    "header = ['depth','ior']\n",
    "\n",
    "import csv\n",
    "file_name = 'data.csv'\n",
    "with open(file_name, 'w') as file:\n",
    "    writer = csv.writer(file)\n",
    "    writer.writerow(header)\n",
    "    writer.writerows(data)"
   ]
  },
  {
   "cell_type": "code",
   "execution_count": 6,
   "metadata": {},
   "outputs": [],
   "source": [
    "ice_model = radiopropa.IceModel_Data1D()\n",
    "#ice_model.loadDataFromVectors(radiopropa.DoubleVector_1D(X),radiopropa.DoubleVector_1D(N))\n",
    "#ice_model.loadDataFromCSV(file_name)\n",
    "ice_model.loadDataFromVector(radiopropa.DoubleVector_2D(data))"
   ]
  },
  {
   "cell_type": "code",
   "execution_count": 7,
   "metadata": {},
   "outputs": [],
   "source": [
    "N_ = []\n",
    "for x in X:\n",
    "    N_.append(ice_model.getValue(radiopropa.Vector3d(0,0,x)))"
   ]
  },
  {
   "cell_type": "code",
   "execution_count": 8,
   "metadata": {},
   "outputs": [
    {
     "data": {
      "image/png": "[encoded data removed]",
      "text/plain": [
       "<Figure size 432x288 with 1 Axes>"
      ]
     },
     "metadata": {
      "needs_background": "light"
     },
     "output_type": "display_data"
    }
   ],
   "source": [
    "plt.scatter(X,N,c='blue')\n",
    "plt.scatter(X,N_,c='orange')\n",
    "plt.show()"
   ]
  },
  {
   "cell_type": "code",
   "execution_count": 9,
   "metadata": {},
   "outputs": [
    {
     "data": {
      "image/png": "[encoded data removed]",
      "text/plain": [
       "<Figure size 432x288 with 1 Axes>"
      ]
     },
     "metadata": {
      "needs_background": "light"
     },
     "output_type": "display_data"
    }
   ],
   "source": [
    "plt.scatter(X,N_-N,c='black')\n",
    "plt.show()"
   ]
  },
  {
   "cell_type": "code",
   "execution_count": 10,
   "metadata": {},
   "outputs": [
    {
     "data": {
      "text/plain": [
       "array([  -0.51020408,   -2.55102041,   -4.59183673,   -6.63265306,\n",
       "         -8.67346939,  -10.71428571,  -12.75510204,  -14.79591837,\n",
       "        -16.83673469,  -18.87755102,  -20.91836735,  -22.95918367,\n",
       "        -25.        ,  -27.04081633,  -29.08163265,  -31.12244898,\n",
       "        -33.16326531,  -35.20408163,  -37.24489796,  -39.28571429,\n",
       "        -41.32653061,  -43.36734694,  -45.40816327,  -47.44897959,\n",
       "        -49.48979592,  -51.53061224,  -53.57142857,  -55.6122449 ,\n",
       "        -57.65306122,  -59.69387755,  -61.73469388,  -63.7755102 ,\n",
       "        -65.81632653,  -67.85714286,  -69.89795918,  -71.93877551,\n",
       "        -73.97959184,  -76.02040816,  -78.06122449,  -80.10204082,\n",
       "        -82.14285714,  -84.18367347,  -86.2244898 ,  -88.26530612,\n",
       "        -90.30612245,  -92.34693878,  -94.3877551 ,  -96.42857143,\n",
       "        -98.46938776, -100.51020408,   -1.02040816,   -3.06122449,\n",
       "         -5.10204082,   -7.14285714,   -9.18367347,  -11.2244898 ,\n",
       "        -13.26530612,  -15.30612245,  -17.34693878,  -19.3877551 ,\n",
       "        -21.42857143,  -23.46938776,  -25.51020408,  -27.55102041,\n",
       "        -29.59183673,  -31.63265306,  -33.67346939,  -35.71428571,\n",
       "        -37.75510204,  -39.79591837,  -41.83673469,  -43.87755102,\n",
       "        -45.91836735,  -47.95918367,  -50.        ,  -52.04081633,\n",
       "        -54.08163265,  -56.12244898,  -58.16326531,  -60.20408163,\n",
       "        -62.24489796,  -64.28571429,  -66.32653061,  -68.36734694,\n",
       "        -70.40816327,  -72.44897959,  -74.48979592,  -76.53061224,\n",
       "        -78.57142857,  -80.6122449 ,  -82.65306122,  -84.69387755,\n",
       "        -86.73469388,  -88.7755102 ,  -90.81632653,  -92.85714286,\n",
       "        -94.89795918,  -96.93877551,  -98.97959184, -101.02040816,\n",
       "         -1.53061224,   -3.57142857,   -5.6122449 ,   -7.65306122,\n",
       "         -9.69387755,  -11.73469388,  -13.7755102 ,  -15.81632653,\n",
       "        -17.85714286,  -19.89795918,  -21.93877551,  -23.97959184,\n",
       "        -26.02040816,  -28.06122449,  -30.10204082,  -32.14285714,\n",
       "        -34.18367347,  -36.2244898 ,  -38.26530612,  -40.30612245,\n",
       "        -42.34693878,  -44.3877551 ,  -46.42857143,  -48.46938776,\n",
       "        -50.51020408,  -52.55102041,  -54.59183673,  -56.63265306,\n",
       "        -58.67346939,  -60.71428571,  -62.75510204,  -64.79591837,\n",
       "        -66.83673469,  -68.87755102,  -70.91836735,  -72.95918367,\n",
       "        -75.        ,  -77.04081633,  -79.08163265,  -81.12244898,\n",
       "        -83.16326531,  -85.20408163,  -87.24489796,  -89.28571429,\n",
       "        -91.32653061,  -93.36734694,  -95.40816327,  -97.44897959,\n",
       "        -99.48979592, -101.53061224])"
      ]
     },
     "execution_count": 10,
     "metadata": {},
     "output_type": "execute_result"
    }
   ],
   "source": [
    "step = X[1]-X[0]\n",
    "Z = np.concatenate((X+step/4,X+step/2,X+step*3/4))\n",
    "Z"
   ]
  },
  {
   "cell_type": "code",
   "execution_count": 11,
   "metadata": {},
   "outputs": [],
   "source": [
    "N__ = []\n",
    "mask = (Z>-100)\n",
    "for z in Z[mask]:\n",
    "    N__.append(ice_model.getValue(radiopropa.Vector3d(0,0,z)))"
   ]
  },
  {
   "cell_type": "code",
   "execution_count": 12,
   "metadata": {
    "scrolled": true
   },
   "outputs": [
    {
     "data": {
      "image/png": "[encoded data removed]",
      "text/plain": [
       "<Figure size 432x288 with 1 Axes>"
      ]
     },
     "metadata": {
      "needs_background": "light"
     },
     "output_type": "display_data"
    }
   ],
   "source": [
    "plt.scatter(X,N_,c='orange')\n",
    "plt.scatter(Z[mask],N__,c='red')\n",
    "plt.show()"
   ]
  },
  {
   "cell_type": "code",
   "execution_count": 13,
   "metadata": {},
   "outputs": [
    {
     "data": {
      "text/plain": [
       "-0.21178401439333194"
      ]
     },
     "execution_count": 13,
     "metadata": {},
     "output_type": "execute_result"
    }
   ],
   "source": [
    "interval = [0,-100]\n",
    "(funct_integ(interval[1]) - funct_integ(interval[0])) / (interval[1]-interval[0])"
   ]
  },
  {
   "cell_type": "code",
   "execution_count": 14,
   "metadata": {},
   "outputs": [
    {
     "data": {
      "text/plain": [
       "-0.21119146243179657"
      ]
     },
     "execution_count": 14,
     "metadata": {},
     "output_type": "execute_result"
    }
   ],
   "source": [
    "ice_model.getAverageValue(radiopropa.Vector3d(0,0,interval[1]),radiopropa.Vector3d(0,0,interval[0]))"
   ]
  },
  {
   "cell_type": "code",
   "execution_count": 15,
   "metadata": {},
   "outputs": [],
   "source": [
    "G = []\n",
    "for z in Z[mask]:\n",
    "    G.append(ice_model.getGradient(radiopropa.Vector3d(0,0,z)).z)"
   ]
  },
  {
   "cell_type": "code",
   "execution_count": 16,
   "metadata": {},
   "outputs": [
    {
     "data": {
      "image/png": "[encoded data removed]",
      "text/plain": [
       "<Figure size 432x288 with 1 Axes>"
      ]
     },
     "metadata": {
      "needs_background": "light"
     },
     "output_type": "display_data"
    }
   ],
   "source": [
    "plt.scatter(Z[mask],(G-funct_grad(Z[mask]))/N__)\n",
    "plt.show()"
   ]
  },
  {
   "cell_type": "code",
   "execution_count": 17,
   "metadata": {},
   "outputs": [],
   "source": [
    "G = []\n",
    "for x in X[1:-2]:\n",
    "    G.append(ice_model.getGradient(radiopropa.Vector3d(0,0,x)).z)"
   ]
  },
  {
   "cell_type": "code",
   "execution_count": 18,
   "metadata": {},
   "outputs": [
    {
     "data": {
      "image/png": "[encoded data removed]",
      "text/plain": [
       "<Figure size 432x288 with 1 Axes>"
      ]
     },
     "metadata": {
      "needs_background": "light"
     },
     "output_type": "display_data"
    }
   ],
   "source": [
    "plt.scatter(X[1:-2],(G-funct_grad(X[1:-2]))/N_[1:-2])\n",
    "plt.show()"
   ]
  },
  {
   "cell_type": "code",
   "execution_count": null,
   "metadata": {},
   "outputs": [],
   "source": []
  }
 ],
 "metadata": {
  "kernelspec": {
   "display_name": "Python 3",
   "language": "python",
   "name": "python3"
  },
  "language_info": {
   "codemirror_mode": {
    "name": "ipython",
    "version": 3
   },
   "file_extension": ".py",
   "mimetype": "text/x-python",
   "name": "python",
   "nbconvert_exporter": "python",
   "pygments_lexer": "ipython3",
   "version": "3.7.4"
  }
 },
 "nbformat": 4,
 "nbformat_minor": 4
}
